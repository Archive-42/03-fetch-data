{
  "nbformat": 4,
  "nbformat_minor": 0,
  "metadata": {
    "colab": {
      "name": "CS46 Python I.ipynb",
      "provenance": [],
      "collapsed_sections": [],
      "include_colab_link": true
    },
    "kernelspec": {
      "name": "python3",
      "display_name": "Python 3"
    },
    "language_info": {
      "name": "python"
    }
  },
  "cells": [
    {
      "cell_type": "markdown",
      "metadata": {
        "id": "view-in-github",
        "colab_type": "text"
      },
      "source": [
        "<a href=\"https://colab.research.google.com/github/bgoonz/03-fetch-data/blob/master/CS46_Python_I.ipynb\" target=\"_parent\"><img src=\"https://colab.research.google.com/assets/colab-badge.svg\" alt=\"Open In Colab\"/></a>"
      ]
    },
    {
      "cell_type": "markdown",
      "metadata": {
        "id": "B47O0D9KZIuL"
      },
      "source": [
        "# Intro To Python I\n",
        "\n",
        "## Purpose\n",
        "\n",
        "**Why do students need to learn this material?**\n",
        "\n",
        "- Getting familiar with the basics of Python as quickly as possible is necessary because it is the language we will be using throughout the rest of our time together in Computer Science.\n",
        "\n",
        "**What will you be able to do after learning this material?**\n",
        "\n",
        "- After achieving the objectives for today, you will be able to write basic Python programs.\n",
        "\n",
        "**How will you show they have learned the material?**\n",
        "\n",
        "- You will show you have learned the material by completing all of the code challenges in Python in the module project.\n",
        "\n",
        "\n",
        "## Let's Review Some of your Objectives\n",
        "\n",
        "**Name and describe the details of each step of Lambda's Problem-Solving Framework (U.P.E.R.)**\n",
        "- **U**nderstand\n",
        "- **P**lan\n",
        "- **E**xecute\n",
        "- **R**eflect\n",
        "\n",
        "**Effectively ask for help by giving the expected vs. experienced behavior, explaining what specific actions you have taken so far, and providing all relevant information and code**\n",
        "- Ask Good Questions [Article To Read](https://betterprogramming.pub/4-ways-to-ask-better-questions-as-a-software-engineer-a342ffc251a1)\n",
        "\n",
        "\n",
        "**Use a print statement**\n",
        "- this may seem trivial but it is one of the fundimentals to getting feedback from your program.\n",
        "- Use print to return data back to the console when not in a repl.\n",
        "- use print for the dir command in python\n",
        "- use print to get a better understanding of a data structure you are working with\n",
        "\n",
        "**Use white space to denote blocks**\n",
        "- Python uses white space to denote blocks of code\n",
        "- This is used when doing any block\n",
        "- Make sure that your indentation is uniform\n",
        "- indentation is used for things such as:\n",
        "  - Conditional branching\n",
        "  - Iteration over data\n",
        "  - breaking down organizational units such as Classes\n",
        "  - creating reusable blocks of code such as Functions\n",
        "\n",
        "**Use basic types (integers, floats, strings) and interact with those types**\n",
        "- the basic types in any language are the building blocks of more complex data structures. The will be a staple of your working life and you should try to get to know them in whatever language you learn.\n",
        "- Most languages will give you a set of primitive data types then some more complex ones. The depth of how much help they are to you will depend on what sort of problems you come accross.\n",
        "- Knowing the basics can sove you hours or even days of complex work further down the line.\n",
        "\n",
        "\n"
      ]
    },
    {
      "cell_type": "markdown",
      "metadata": {
        "id": "Dj2IcRT8d4KE"
      },
      "source": [
        "# Some Demos / Basic usage of Python"
      ]
    },
    {
      "cell_type": "code",
      "metadata": {
        "colab": {
          "base_uri": "https://localhost:8080/"
        },
        "id": "mMrce87GZEHO",
        "outputId": "ff356f00-d7d4-4725-e45a-694487838247"
      },
      "source": [
        "# Lets print a string to the console...\n",
        "print(\"Something\", \"new\")"
      ],
      "execution_count": null,
      "outputs": [
        {
          "output_type": "stream",
          "text": [
            "Something new\n"
          ],
          "name": "stdout"
        }
      ]
    },
    {
      "cell_type": "code",
      "metadata": {
        "colab": {
          "base_uri": "https://localhost:8080/"
        },
        "id": "nwVy4esWeVtg",
        "outputId": "751e1e75-cbc1-4885-a777-b24aa71ec8fd"
      },
      "source": [
        "# Lets create some variables\n",
        "a = 10\n",
        "a = \"a string\"\n",
        "a = 1.2\n",
        "a = []\n",
        "\n",
        "a = ()\n",
        "a = {\"name\": \"Tom\"}\n",
        "b = []\n",
        "b.append(\"Dave\")\n",
        "b.append(\"Bob\")\n",
        "b.append(\"Joe\")\n",
        "# print(type(a))\n",
        "# print(a[\"name\"])\n",
        "# print(dir([]))\n",
        "print(b.pop(0))\n",
        "print(b)"
      ],
      "execution_count": null,
      "outputs": [
        {
          "output_type": "stream",
          "text": [
            "Dave\n",
            "['Bob', 'Joe']\n"
          ],
          "name": "stdout"
        }
      ]
    },
    {
      "cell_type": "markdown",
      "metadata": {
        "id": "M3U0KSG1w2gZ"
      },
      "source": [
        "# PYTHON I CODE: 5976"
      ]
    },
    {
      "cell_type": "code",
      "metadata": {
        "colab": {
          "base_uri": "https://localhost:8080/"
        },
        "id": "fDHDMlnpeZQX",
        "outputId": "5a24487f-fe64-4a65-884d-b2450929b83f"
      },
      "source": [
        "# how about conditions?\n",
        "if True:\n",
        "  print(\"this is inside the if block\")\n",
        "  \n",
        "  if 1 != 1:\n",
        "    print(\"one is one\")\n",
        "\n",
        "    \n",
        "\n",
        "\n",
        "else:\n",
        "  print(\"this is the else block\")"
      ],
      "execution_count": null,
      "outputs": [
        {
          "output_type": "stream",
          "text": [
            "this is inside the if block\n"
          ],
          "name": "stdout"
        }
      ]
    },
    {
      "cell_type": "code",
      "metadata": {
        "colab": {
          "base_uri": "https://localhost:8080/"
        },
        "id": "ie6oDj5Aebtw",
        "outputId": "a956c968-e4e7-4cb4-88ae-199adff0c0fa"
      },
      "source": [
        "# lets get some reps in...\n",
        "n = 10\n",
        "while n > 0:\n",
        "  print(\"Hello\")\n",
        "  n -= 1\n",
        "\n"
      ],
      "execution_count": null,
      "outputs": [
        {
          "output_type": "stream",
          "text": [
            "Hello\n",
            "Hello\n",
            "Hello\n",
            "Hello\n",
            "Hello\n",
            "Hello\n",
            "Hello\n",
            "Hello\n",
            "Hello\n",
            "Hello\n"
          ],
          "name": "stdout"
        }
      ]
    },
    {
      "cell_type": "code",
      "metadata": {
        "id": "6Hg7_xokeeYP"
      },
      "source": [
        "# take some input from the user"
      ],
      "execution_count": null,
      "outputs": []
    },
    {
      "cell_type": "code",
      "metadata": {
        "id": "Jr-l2M1Eei22"
      },
      "source": [
        "# lets reuse some code..."
      ],
      "execution_count": null,
      "outputs": []
    },
    {
      "cell_type": "code",
      "metadata": {
        "id": "UXI5sFKeeoBX"
      },
      "source": [
        "# lets play with some strings"
      ],
      "execution_count": null,
      "outputs": []
    },
    {
      "cell_type": "code",
      "metadata": {
        "id": "Gur1-frQetee"
      },
      "source": [
        "# Lets put it all together"
      ],
      "execution_count": null,
      "outputs": []
    },
    {
      "cell_type": "markdown",
      "metadata": {
        "id": "KtgkGQCQe7fJ"
      },
      "source": [
        "# Challenges"
      ]
    },
    {
      "cell_type": "code",
      "metadata": {
        "id": "G3nItc9Ve9xV"
      },
      "source": [
        "\"\"\"\n",
        "Challenge #1:\n",
        "Create a function that takes two numbers as arguments and return their sum.\n",
        "Examples:\n",
        "- addition(3, 2) ➞ 5\n",
        "- addition(-3, -6) ➞ -9\n",
        "- addition(7, 3) ➞ 10\n",
        "\"\"\"\n",
        "def addition(a, b):\n",
        "    # Your code here"
      ],
      "execution_count": null,
      "outputs": []
    },
    {
      "cell_type": "code",
      "metadata": {
        "id": "SWguh95ffA31"
      },
      "source": [
        "\"\"\"\n",
        "Challenge #2:\n",
        "Write a function that takes an integer `minutes` and converts it to seconds.\n",
        "Examples:\n",
        "- convert(5) ➞ 300\n",
        "- convert(3) ➞ 180\n",
        "- convert(2) ➞ 120\n",
        "\"\"\"\n",
        "def convert(minutes):\n",
        "    # Your code here"
      ],
      "execution_count": null,
      "outputs": []
    },
    {
      "cell_type": "code",
      "metadata": {
        "id": "oppn2mDffG0d"
      },
      "source": [
        "\"\"\"\n",
        "Challenge #3:\n",
        "Create a function that takes a string and returns it as an integer.\n",
        "Examples:\n",
        "- string_int(\"6\") ➞ 6\n",
        "- string_int(\"1000\") ➞ 1000\n",
        "- string_int(\"12\") ➞ 12\n",
        "\"\"\"\n",
        "def string_int(txt):\n",
        "    # Your code here"
      ],
      "execution_count": null,
      "outputs": []
    },
    {
      "cell_type": "code",
      "metadata": {
        "id": "kOkJk22jfMxJ"
      },
      "source": [
        "\"\"\"\n",
        "Challenge #4:\n",
        "Create a function that takes length and width and finds the perimeter of a\n",
        "rectangle.\n",
        "Examples:\n",
        "- find_perimeter(6, 7) ➞ 26\n",
        "- find_perimeter(20, 10) ➞ 60\n",
        "- find_perimeter(2, 9) ➞ 22\n",
        "\"\"\"\n",
        "def find_perimeter(length, width):"
      ],
      "execution_count": null,
      "outputs": []
    },
    {
      "cell_type": "code",
      "metadata": {
        "id": "FvMie4IKfqgw"
      },
      "source": [
        "\"\"\"\n",
        "Challenge #5:\n",
        "Create a function that returns a list of strings sorted by length in ascending\n",
        "order.\n",
        "Examples:\n",
        "- sort_by_length([\"a\", \"ccc\", \"dddd\", \"bb\"]) ➞ [\"a\", \"bb\", \"ccc\", \"dddd\"]\n",
        "- sort_by_length([\"apple\", \"pie\", \"shortcake\"]) ➞ [\"pie\", \"apple\", \"shortcake\"]\n",
        "- sort_by_length([\"may\", \"april\", \"september\", \"august\"]) ➞ [\"may\", \"april\", \"august\", \"september\"]\n",
        "- sort_by_length([]) ➞ []\n",
        "\"\"\"\n",
        "def sort_by_length(lst):"
      ],
      "execution_count": null,
      "outputs": []
    },
    {
      "cell_type": "code",
      "metadata": {
        "id": "mUwehRL3fxQ0"
      },
      "source": [
        "\"\"\"\n",
        "Challenge #6:\n",
        "Create a function that takes a string, checks if it has the same number of \"x\"s\n",
        "and \"o\"s and returns either True or False.\n",
        "- Return a boolean value (True or False).\n",
        "- The string can contain any character.\n",
        "- When no x and no o are in the string, return True.\n",
        "Examples:\n",
        "- XO(\"ooxx\") ➞ True\n",
        "- XO(\"xooxx\") ➞ False\n",
        "- XO(\"ooxXm\") ➞ True (Case insensitive)\n",
        "- XO(\"zpzpzpp\") ➞ True (Returns True if no x and o)\n",
        "- XO(\"zzoo\") ➞ False\n",
        "\"\"\"\n",
        "def XO(txt):"
      ],
      "execution_count": null,
      "outputs": []
    },
    {
      "cell_type": "code",
      "metadata": {
        "id": "5K8Uw67mf5kY"
      },
      "source": [
        "\"\"\"\n",
        "Challenge #7:\n",
        "Given an unsorted list, create a function that returns the nth smallest element\n",
        "(the smallest element is the first smallest, the second smallest element is the\n",
        "second smallest, etc).\n",
        "Examples:\n",
        "- nth_smallest([7, 5, 3, 1], 1) ➞ 1\n",
        "- nth_smallest([1, 3, 5, 7], 3) ➞ 5\n",
        "- nth_smallest([1, 3, 5, 7], 5) ➞ None\n",
        "- nth_smallest([7, 3, 5, 1], 2) ➞ 3\n",
        "\"\"\"\n",
        "def nth_smallest(lst, n):"
      ],
      "execution_count": null,
      "outputs": []
    },
    {
      "cell_type": "code",
      "metadata": {
        "id": "WswX4B_yf6w4"
      },
      "source": [
        "\"\"\"\n",
        "Challenge #8:\n",
        "Create a function that returns the number of arguments it was called with.\n",
        "Examples:\n",
        "- num_args() ➞ 0\n",
        "- num_args(\"foo\") ➞ 1\n",
        "- num_args(\"foo\", \"bar\") ➞ 2\n",
        "- num_args(True, False) ➞ 2\n",
        "- num_args({}) ➞ 1\n",
        "\"\"\"\n",
        "def num_args():"
      ],
      "execution_count": null,
      "outputs": []
    },
    {
      "cell_type": "code",
      "metadata": {
        "id": "r26ZmKT5gExV"
      },
      "source": [
        "  \n",
        "\"\"\"\n",
        "Challenge #9:\n",
        "Write a function that creates a dictionary with each (key, value) pair being\n",
        "the (lower case, upper case) versions of a letter, respectively.\n",
        "Examples:\n",
        "- mapping([\"p\", \"s\"]) ➞ { \"p\": \"P\", \"s\": \"S\" }\n",
        "- mapping([\"a\", \"b\", \"c\"]) ➞ { \"a\": \"A\", \"b\": \"B\", \"c\": \"C\" }\n",
        "- mapping([\"a\", \"v\", \"y\", \"z\"]) ➞ { \"a\": \"A\", \"v\": \"V\", \"y\": \"Y\", \"z\": \"Z\" }\n",
        "Notes:\n",
        "- All of the letters in the input list will always be lowercase.\n",
        "\"\"\"\n",
        "def mapping(letters):"
      ],
      "execution_count": null,
      "outputs": []
    },
    {
      "cell_type": "code",
      "metadata": {
        "id": "4fYgGu-VgI6y"
      },
      "source": [
        "\"\"\"\n",
        "Challenge #10:\n",
        "Create a function that applies a discount d to every number in the list.\n",
        "Examples:\n",
        "- get_discounts([2, 4, 6, 11], \"50%\") ➞ [1, 2, 3, 5.5]\n",
        "- get_discounts([10, 20, 40, 80], \"75%\") ➞ [7.5, 15, 30, 60]\n",
        "- get_discounts([100], \"45%\") ➞ [45]\n",
        "Notes:\n",
        "- The discount is the percentage of the original price (i.e the discount of\n",
        "\"75%\" to 12 would be 9 as opposed to taking off 75% (making 3)).\n",
        "- There won't be any awkward decimal numbers, only 0.5 to deal with.\n",
        "\"\"\"\n",
        "def get_discounts(nums, percentage):"
      ],
      "execution_count": null,
      "outputs": []
    }
  ]
}